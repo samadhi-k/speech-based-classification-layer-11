{
  "cells": [
    {
      "cell_type": "markdown",
      "metadata": {
        "id": "Ssy8eL9GHxPV"
      },
      "source": [
        "### Mount drive"
      ]
    },
    {
      "cell_type": "code",
      "execution_count": 1,
      "metadata": {
        "colab": {
          "base_uri": "https://localhost:8080/"
        },
        "id": "_Qzx28fUHXP8",
        "outputId": "2fead0c9-dc9d-4969-901c-9743d67dadc7"
      },
      "outputs": [
        {
          "output_type": "stream",
          "name": "stdout",
          "text": [
            "Mounted at /content/drive\n"
          ]
        }
      ],
      "source": [
        "from google.colab import drive\n",
        "drive.mount('/content/drive')\n"
      ]
    },
    {
      "cell_type": "markdown",
      "metadata": {
        "id": "LuKB-tWBHSjO"
      },
      "source": [
        "### Import packages"
      ]
    },
    {
      "cell_type": "code",
      "execution_count": 2,
      "metadata": {
        "id": "Gukai7h_HSjS"
      },
      "outputs": [],
      "source": [
        "import numpy as np\n",
        "import pandas as pd\n",
        "import matplotlib.pyplot as plt\n",
        "import tensorflow as tf"
      ]
    },
    {
      "cell_type": "markdown",
      "metadata": {
        "id": "sZz0cPLpHSjU"
      },
      "source": [
        "### Import data"
      ]
    },
    {
      "cell_type": "code",
      "execution_count": 3,
      "metadata": {
        "id": "csLLzqRTHSjU"
      },
      "outputs": [],
      "source": [
        "train = pd.read_csv('drive/MyDrive/DataSets/Layer11/train.csv');\n",
        "valid = pd.read_csv('drive/MyDrive/DataSets/Layer11/valid.csv');"
      ]
    },
    {
      "cell_type": "markdown",
      "metadata": {
        "id": "lkWH3ofXHSjU"
      },
      "source": [
        "### Describe data"
      ]
    },
    {
      "cell_type": "code",
      "execution_count": 4,
      "metadata": {
        "colab": {
          "base_uri": "https://localhost:8080/",
          "height": 350
        },
        "id": "B7OPAU4VHSjV",
        "outputId": "486fc6d6-70bd-4897-edb3-e840f1a49c5d"
      },
      "outputs": [
        {
          "output_type": "execute_result",
          "data": {
            "text/plain": [
              "          feature_1     feature_2     feature_3     feature_4     feature_5  \\\n",
              "count  28520.000000  28520.000000  28520.000000  28520.000000  28520.000000   \n",
              "mean       0.042487      0.068749      0.145547     -0.070646     -0.013539   \n",
              "std        0.048918      0.046354      0.065332      0.046671      0.027635   \n",
              "min       -0.079594     -0.062608     -0.048545     -0.307243     -0.178347   \n",
              "25%        0.009979      0.037225      0.100677     -0.088834     -0.027810   \n",
              "50%        0.024445      0.056119      0.123554     -0.057386     -0.011423   \n",
              "75%        0.058410      0.086358      0.173234     -0.039661      0.001544   \n",
              "max        0.274146      0.332288      0.454182      0.059362      0.196950   \n",
              "\n",
              "          feature_6     feature_7     feature_8     feature_9    feature_10  \\\n",
              "count  28520.000000  28520.000000  28520.000000  28520.000000  28520.000000   \n",
              "mean       0.003395     -0.041282     -0.028283     -0.106602      0.053686   \n",
              "std        0.031248      0.026479      0.029632      0.070775      0.030945   \n",
              "min       -0.194771     -0.197551     -0.304828     -0.421257     -0.049723   \n",
              "25%       -0.010617     -0.056682     -0.044344     -0.135110      0.033236   \n",
              "50%        0.006173     -0.041501     -0.025805     -0.080715      0.045567   \n",
              "75%        0.021250     -0.026559     -0.009324     -0.057873      0.065670   \n",
              "max        0.213127      0.124194      0.105714      0.192121      0.252320   \n",
              "\n",
              "       ...   feature_763   feature_764   feature_765   feature_766  \\\n",
              "count  ...  28520.000000  28520.000000  28520.000000  28520.000000   \n",
              "mean   ...     -0.022102     -0.044743     -0.004380      0.049072   \n",
              "std    ...      0.053250      0.031361      0.025829      0.050536   \n",
              "min    ...     -0.253255     -0.264549     -0.137827     -0.117697   \n",
              "25%    ...     -0.042332     -0.056918     -0.018848      0.012599   \n",
              "50%    ...     -0.007960     -0.037407     -0.004701      0.033121   \n",
              "75%    ...      0.012116     -0.024179      0.010218      0.072599   \n",
              "max    ...      0.209455      0.054555      0.215375      0.376414   \n",
              "\n",
              "        feature_767   feature_768       label_1       label_2       label_3  \\\n",
              "count  28520.000000  28520.000000  28520.000000  28040.000000  28520.000000   \n",
              "mean      -0.028722      0.075717     30.498843     27.975107      0.799299   \n",
              "std        0.032622      0.044879     17.328389      5.735913      0.400532   \n",
              "min       -0.302399     -0.090777      1.000000     22.000000      0.000000   \n",
              "25%       -0.045226      0.045309     15.000000     25.000000      1.000000   \n",
              "50%       -0.022919      0.064875     30.000000     27.000000      1.000000   \n",
              "75%       -0.006335      0.097642     46.000000     30.000000      1.000000   \n",
              "max        0.125857      0.416291     60.000000     61.000000      1.000000   \n",
              "\n",
              "            label_4  \n",
              "count  28520.000000  \n",
              "mean       5.997125  \n",
              "std        2.375567  \n",
              "min        0.000000  \n",
              "25%        6.000000  \n",
              "50%        6.000000  \n",
              "75%        6.000000  \n",
              "max       13.000000  \n",
              "\n",
              "[8 rows x 772 columns]"
            ],
            "text/html": [
              "\n",
              "  <div id=\"df-519ecb69-8ab3-4b9c-aab7-c3b8273fb640\" class=\"colab-df-container\">\n",
              "    <div>\n",
              "<style scoped>\n",
              "    .dataframe tbody tr th:only-of-type {\n",
              "        vertical-align: middle;\n",
              "    }\n",
              "\n",
              "    .dataframe tbody tr th {\n",
              "        vertical-align: top;\n",
              "    }\n",
              "\n",
              "    .dataframe thead th {\n",
              "        text-align: right;\n",
              "    }\n",
              "</style>\n",
              "<table border=\"1\" class=\"dataframe\">\n",
              "  <thead>\n",
              "    <tr style=\"text-align: right;\">\n",
              "      <th></th>\n",
              "      <th>feature_1</th>\n",
              "      <th>feature_2</th>\n",
              "      <th>feature_3</th>\n",
              "      <th>feature_4</th>\n",
              "      <th>feature_5</th>\n",
              "      <th>feature_6</th>\n",
              "      <th>feature_7</th>\n",
              "      <th>feature_8</th>\n",
              "      <th>feature_9</th>\n",
              "      <th>feature_10</th>\n",
              "      <th>...</th>\n",
              "      <th>feature_763</th>\n",
              "      <th>feature_764</th>\n",
              "      <th>feature_765</th>\n",
              "      <th>feature_766</th>\n",
              "      <th>feature_767</th>\n",
              "      <th>feature_768</th>\n",
              "      <th>label_1</th>\n",
              "      <th>label_2</th>\n",
              "      <th>label_3</th>\n",
              "      <th>label_4</th>\n",
              "    </tr>\n",
              "  </thead>\n",
              "  <tbody>\n",
              "    <tr>\n",
              "      <th>count</th>\n",
              "      <td>28520.000000</td>\n",
              "      <td>28520.000000</td>\n",
              "      <td>28520.000000</td>\n",
              "      <td>28520.000000</td>\n",
              "      <td>28520.000000</td>\n",
              "      <td>28520.000000</td>\n",
              "      <td>28520.000000</td>\n",
              "      <td>28520.000000</td>\n",
              "      <td>28520.000000</td>\n",
              "      <td>28520.000000</td>\n",
              "      <td>...</td>\n",
              "      <td>28520.000000</td>\n",
              "      <td>28520.000000</td>\n",
              "      <td>28520.000000</td>\n",
              "      <td>28520.000000</td>\n",
              "      <td>28520.000000</td>\n",
              "      <td>28520.000000</td>\n",
              "      <td>28520.000000</td>\n",
              "      <td>28040.000000</td>\n",
              "      <td>28520.000000</td>\n",
              "      <td>28520.000000</td>\n",
              "    </tr>\n",
              "    <tr>\n",
              "      <th>mean</th>\n",
              "      <td>0.042487</td>\n",
              "      <td>0.068749</td>\n",
              "      <td>0.145547</td>\n",
              "      <td>-0.070646</td>\n",
              "      <td>-0.013539</td>\n",
              "      <td>0.003395</td>\n",
              "      <td>-0.041282</td>\n",
              "      <td>-0.028283</td>\n",
              "      <td>-0.106602</td>\n",
              "      <td>0.053686</td>\n",
              "      <td>...</td>\n",
              "      <td>-0.022102</td>\n",
              "      <td>-0.044743</td>\n",
              "      <td>-0.004380</td>\n",
              "      <td>0.049072</td>\n",
              "      <td>-0.028722</td>\n",
              "      <td>0.075717</td>\n",
              "      <td>30.498843</td>\n",
              "      <td>27.975107</td>\n",
              "      <td>0.799299</td>\n",
              "      <td>5.997125</td>\n",
              "    </tr>\n",
              "    <tr>\n",
              "      <th>std</th>\n",
              "      <td>0.048918</td>\n",
              "      <td>0.046354</td>\n",
              "      <td>0.065332</td>\n",
              "      <td>0.046671</td>\n",
              "      <td>0.027635</td>\n",
              "      <td>0.031248</td>\n",
              "      <td>0.026479</td>\n",
              "      <td>0.029632</td>\n",
              "      <td>0.070775</td>\n",
              "      <td>0.030945</td>\n",
              "      <td>...</td>\n",
              "      <td>0.053250</td>\n",
              "      <td>0.031361</td>\n",
              "      <td>0.025829</td>\n",
              "      <td>0.050536</td>\n",
              "      <td>0.032622</td>\n",
              "      <td>0.044879</td>\n",
              "      <td>17.328389</td>\n",
              "      <td>5.735913</td>\n",
              "      <td>0.400532</td>\n",
              "      <td>2.375567</td>\n",
              "    </tr>\n",
              "    <tr>\n",
              "      <th>min</th>\n",
              "      <td>-0.079594</td>\n",
              "      <td>-0.062608</td>\n",
              "      <td>-0.048545</td>\n",
              "      <td>-0.307243</td>\n",
              "      <td>-0.178347</td>\n",
              "      <td>-0.194771</td>\n",
              "      <td>-0.197551</td>\n",
              "      <td>-0.304828</td>\n",
              "      <td>-0.421257</td>\n",
              "      <td>-0.049723</td>\n",
              "      <td>...</td>\n",
              "      <td>-0.253255</td>\n",
              "      <td>-0.264549</td>\n",
              "      <td>-0.137827</td>\n",
              "      <td>-0.117697</td>\n",
              "      <td>-0.302399</td>\n",
              "      <td>-0.090777</td>\n",
              "      <td>1.000000</td>\n",
              "      <td>22.000000</td>\n",
              "      <td>0.000000</td>\n",
              "      <td>0.000000</td>\n",
              "    </tr>\n",
              "    <tr>\n",
              "      <th>25%</th>\n",
              "      <td>0.009979</td>\n",
              "      <td>0.037225</td>\n",
              "      <td>0.100677</td>\n",
              "      <td>-0.088834</td>\n",
              "      <td>-0.027810</td>\n",
              "      <td>-0.010617</td>\n",
              "      <td>-0.056682</td>\n",
              "      <td>-0.044344</td>\n",
              "      <td>-0.135110</td>\n",
              "      <td>0.033236</td>\n",
              "      <td>...</td>\n",
              "      <td>-0.042332</td>\n",
              "      <td>-0.056918</td>\n",
              "      <td>-0.018848</td>\n",
              "      <td>0.012599</td>\n",
              "      <td>-0.045226</td>\n",
              "      <td>0.045309</td>\n",
              "      <td>15.000000</td>\n",
              "      <td>25.000000</td>\n",
              "      <td>1.000000</td>\n",
              "      <td>6.000000</td>\n",
              "    </tr>\n",
              "    <tr>\n",
              "      <th>50%</th>\n",
              "      <td>0.024445</td>\n",
              "      <td>0.056119</td>\n",
              "      <td>0.123554</td>\n",
              "      <td>-0.057386</td>\n",
              "      <td>-0.011423</td>\n",
              "      <td>0.006173</td>\n",
              "      <td>-0.041501</td>\n",
              "      <td>-0.025805</td>\n",
              "      <td>-0.080715</td>\n",
              "      <td>0.045567</td>\n",
              "      <td>...</td>\n",
              "      <td>-0.007960</td>\n",
              "      <td>-0.037407</td>\n",
              "      <td>-0.004701</td>\n",
              "      <td>0.033121</td>\n",
              "      <td>-0.022919</td>\n",
              "      <td>0.064875</td>\n",
              "      <td>30.000000</td>\n",
              "      <td>27.000000</td>\n",
              "      <td>1.000000</td>\n",
              "      <td>6.000000</td>\n",
              "    </tr>\n",
              "    <tr>\n",
              "      <th>75%</th>\n",
              "      <td>0.058410</td>\n",
              "      <td>0.086358</td>\n",
              "      <td>0.173234</td>\n",
              "      <td>-0.039661</td>\n",
              "      <td>0.001544</td>\n",
              "      <td>0.021250</td>\n",
              "      <td>-0.026559</td>\n",
              "      <td>-0.009324</td>\n",
              "      <td>-0.057873</td>\n",
              "      <td>0.065670</td>\n",
              "      <td>...</td>\n",
              "      <td>0.012116</td>\n",
              "      <td>-0.024179</td>\n",
              "      <td>0.010218</td>\n",
              "      <td>0.072599</td>\n",
              "      <td>-0.006335</td>\n",
              "      <td>0.097642</td>\n",
              "      <td>46.000000</td>\n",
              "      <td>30.000000</td>\n",
              "      <td>1.000000</td>\n",
              "      <td>6.000000</td>\n",
              "    </tr>\n",
              "    <tr>\n",
              "      <th>max</th>\n",
              "      <td>0.274146</td>\n",
              "      <td>0.332288</td>\n",
              "      <td>0.454182</td>\n",
              "      <td>0.059362</td>\n",
              "      <td>0.196950</td>\n",
              "      <td>0.213127</td>\n",
              "      <td>0.124194</td>\n",
              "      <td>0.105714</td>\n",
              "      <td>0.192121</td>\n",
              "      <td>0.252320</td>\n",
              "      <td>...</td>\n",
              "      <td>0.209455</td>\n",
              "      <td>0.054555</td>\n",
              "      <td>0.215375</td>\n",
              "      <td>0.376414</td>\n",
              "      <td>0.125857</td>\n",
              "      <td>0.416291</td>\n",
              "      <td>60.000000</td>\n",
              "      <td>61.000000</td>\n",
              "      <td>1.000000</td>\n",
              "      <td>13.000000</td>\n",
              "    </tr>\n",
              "  </tbody>\n",
              "</table>\n",
              "<p>8 rows × 772 columns</p>\n",
              "</div>\n",
              "    <div class=\"colab-df-buttons\">\n",
              "\n",
              "  <div class=\"colab-df-container\">\n",
              "    <button class=\"colab-df-convert\" onclick=\"convertToInteractive('df-519ecb69-8ab3-4b9c-aab7-c3b8273fb640')\"\n",
              "            title=\"Convert this dataframe to an interactive table.\"\n",
              "            style=\"display:none;\">\n",
              "\n",
              "  <svg xmlns=\"http://www.w3.org/2000/svg\" height=\"24px\" viewBox=\"0 -960 960 960\">\n",
              "    <path d=\"M120-120v-720h720v720H120Zm60-500h600v-160H180v160Zm220 220h160v-160H400v160Zm0 220h160v-160H400v160ZM180-400h160v-160H180v160Zm440 0h160v-160H620v160ZM180-180h160v-160H180v160Zm440 0h160v-160H620v160Z\"/>\n",
              "  </svg>\n",
              "    </button>\n",
              "\n",
              "  <style>\n",
              "    .colab-df-container {\n",
              "      display:flex;\n",
              "      gap: 12px;\n",
              "    }\n",
              "\n",
              "    .colab-df-convert {\n",
              "      background-color: #E8F0FE;\n",
              "      border: none;\n",
              "      border-radius: 50%;\n",
              "      cursor: pointer;\n",
              "      display: none;\n",
              "      fill: #1967D2;\n",
              "      height: 32px;\n",
              "      padding: 0 0 0 0;\n",
              "      width: 32px;\n",
              "    }\n",
              "\n",
              "    .colab-df-convert:hover {\n",
              "      background-color: #E2EBFA;\n",
              "      box-shadow: 0px 1px 2px rgba(60, 64, 67, 0.3), 0px 1px 3px 1px rgba(60, 64, 67, 0.15);\n",
              "      fill: #174EA6;\n",
              "    }\n",
              "\n",
              "    .colab-df-buttons div {\n",
              "      margin-bottom: 4px;\n",
              "    }\n",
              "\n",
              "    [theme=dark] .colab-df-convert {\n",
              "      background-color: #3B4455;\n",
              "      fill: #D2E3FC;\n",
              "    }\n",
              "\n",
              "    [theme=dark] .colab-df-convert:hover {\n",
              "      background-color: #434B5C;\n",
              "      box-shadow: 0px 1px 3px 1px rgba(0, 0, 0, 0.15);\n",
              "      filter: drop-shadow(0px 1px 2px rgba(0, 0, 0, 0.3));\n",
              "      fill: #FFFFFF;\n",
              "    }\n",
              "  </style>\n",
              "\n",
              "    <script>\n",
              "      const buttonEl =\n",
              "        document.querySelector('#df-519ecb69-8ab3-4b9c-aab7-c3b8273fb640 button.colab-df-convert');\n",
              "      buttonEl.style.display =\n",
              "        google.colab.kernel.accessAllowed ? 'block' : 'none';\n",
              "\n",
              "      async function convertToInteractive(key) {\n",
              "        const element = document.querySelector('#df-519ecb69-8ab3-4b9c-aab7-c3b8273fb640');\n",
              "        const dataTable =\n",
              "          await google.colab.kernel.invokeFunction('convertToInteractive',\n",
              "                                                    [key], {});\n",
              "        if (!dataTable) return;\n",
              "\n",
              "        const docLinkHtml = 'Like what you see? Visit the ' +\n",
              "          '<a target=\"_blank\" href=https://colab.research.google.com/notebooks/data_table.ipynb>data table notebook</a>'\n",
              "          + ' to learn more about interactive tables.';\n",
              "        element.innerHTML = '';\n",
              "        dataTable['output_type'] = 'display_data';\n",
              "        await google.colab.output.renderOutput(dataTable, element);\n",
              "        const docLink = document.createElement('div');\n",
              "        docLink.innerHTML = docLinkHtml;\n",
              "        element.appendChild(docLink);\n",
              "      }\n",
              "    </script>\n",
              "  </div>\n",
              "\n",
              "\n",
              "<div id=\"df-d321f1b6-3cac-4164-a488-f381fececc10\">\n",
              "  <button class=\"colab-df-quickchart\" onclick=\"quickchart('df-d321f1b6-3cac-4164-a488-f381fececc10')\"\n",
              "            title=\"Suggest charts.\"\n",
              "            style=\"display:none;\">\n",
              "\n",
              "<svg xmlns=\"http://www.w3.org/2000/svg\" height=\"24px\"viewBox=\"0 0 24 24\"\n",
              "     width=\"24px\">\n",
              "    <g>\n",
              "        <path d=\"M19 3H5c-1.1 0-2 .9-2 2v14c0 1.1.9 2 2 2h14c1.1 0 2-.9 2-2V5c0-1.1-.9-2-2-2zM9 17H7v-7h2v7zm4 0h-2V7h2v10zm4 0h-2v-4h2v4z\"/>\n",
              "    </g>\n",
              "</svg>\n",
              "  </button>\n",
              "\n",
              "<style>\n",
              "  .colab-df-quickchart {\n",
              "      --bg-color: #E8F0FE;\n",
              "      --fill-color: #1967D2;\n",
              "      --hover-bg-color: #E2EBFA;\n",
              "      --hover-fill-color: #174EA6;\n",
              "      --disabled-fill-color: #AAA;\n",
              "      --disabled-bg-color: #DDD;\n",
              "  }\n",
              "\n",
              "  [theme=dark] .colab-df-quickchart {\n",
              "      --bg-color: #3B4455;\n",
              "      --fill-color: #D2E3FC;\n",
              "      --hover-bg-color: #434B5C;\n",
              "      --hover-fill-color: #FFFFFF;\n",
              "      --disabled-bg-color: #3B4455;\n",
              "      --disabled-fill-color: #666;\n",
              "  }\n",
              "\n",
              "  .colab-df-quickchart {\n",
              "    background-color: var(--bg-color);\n",
              "    border: none;\n",
              "    border-radius: 50%;\n",
              "    cursor: pointer;\n",
              "    display: none;\n",
              "    fill: var(--fill-color);\n",
              "    height: 32px;\n",
              "    padding: 0;\n",
              "    width: 32px;\n",
              "  }\n",
              "\n",
              "  .colab-df-quickchart:hover {\n",
              "    background-color: var(--hover-bg-color);\n",
              "    box-shadow: 0 1px 2px rgba(60, 64, 67, 0.3), 0 1px 3px 1px rgba(60, 64, 67, 0.15);\n",
              "    fill: var(--button-hover-fill-color);\n",
              "  }\n",
              "\n",
              "  .colab-df-quickchart-complete:disabled,\n",
              "  .colab-df-quickchart-complete:disabled:hover {\n",
              "    background-color: var(--disabled-bg-color);\n",
              "    fill: var(--disabled-fill-color);\n",
              "    box-shadow: none;\n",
              "  }\n",
              "\n",
              "  .colab-df-spinner {\n",
              "    border: 2px solid var(--fill-color);\n",
              "    border-color: transparent;\n",
              "    border-bottom-color: var(--fill-color);\n",
              "    animation:\n",
              "      spin 1s steps(1) infinite;\n",
              "  }\n",
              "\n",
              "  @keyframes spin {\n",
              "    0% {\n",
              "      border-color: transparent;\n",
              "      border-bottom-color: var(--fill-color);\n",
              "      border-left-color: var(--fill-color);\n",
              "    }\n",
              "    20% {\n",
              "      border-color: transparent;\n",
              "      border-left-color: var(--fill-color);\n",
              "      border-top-color: var(--fill-color);\n",
              "    }\n",
              "    30% {\n",
              "      border-color: transparent;\n",
              "      border-left-color: var(--fill-color);\n",
              "      border-top-color: var(--fill-color);\n",
              "      border-right-color: var(--fill-color);\n",
              "    }\n",
              "    40% {\n",
              "      border-color: transparent;\n",
              "      border-right-color: var(--fill-color);\n",
              "      border-top-color: var(--fill-color);\n",
              "    }\n",
              "    60% {\n",
              "      border-color: transparent;\n",
              "      border-right-color: var(--fill-color);\n",
              "    }\n",
              "    80% {\n",
              "      border-color: transparent;\n",
              "      border-right-color: var(--fill-color);\n",
              "      border-bottom-color: var(--fill-color);\n",
              "    }\n",
              "    90% {\n",
              "      border-color: transparent;\n",
              "      border-bottom-color: var(--fill-color);\n",
              "    }\n",
              "  }\n",
              "</style>\n",
              "\n",
              "  <script>\n",
              "    async function quickchart(key) {\n",
              "      const quickchartButtonEl =\n",
              "        document.querySelector('#' + key + ' button');\n",
              "      quickchartButtonEl.disabled = true;  // To prevent multiple clicks.\n",
              "      quickchartButtonEl.classList.add('colab-df-spinner');\n",
              "      try {\n",
              "        const charts = await google.colab.kernel.invokeFunction(\n",
              "            'suggestCharts', [key], {});\n",
              "      } catch (error) {\n",
              "        console.error('Error during call to suggestCharts:', error);\n",
              "      }\n",
              "      quickchartButtonEl.classList.remove('colab-df-spinner');\n",
              "      quickchartButtonEl.classList.add('colab-df-quickchart-complete');\n",
              "    }\n",
              "    (() => {\n",
              "      let quickchartButtonEl =\n",
              "        document.querySelector('#df-d321f1b6-3cac-4164-a488-f381fececc10 button');\n",
              "      quickchartButtonEl.style.display =\n",
              "        google.colab.kernel.accessAllowed ? 'block' : 'none';\n",
              "    })();\n",
              "  </script>\n",
              "</div>\n",
              "    </div>\n",
              "  </div>\n"
            ]
          },
          "metadata": {},
          "execution_count": 4
        }
      ],
      "source": [
        "train.describe()\n"
      ]
    },
    {
      "cell_type": "code",
      "execution_count": 5,
      "metadata": {
        "colab": {
          "base_uri": "https://localhost:8080/"
        },
        "id": "QtTrsFawHSjW",
        "outputId": "e10e98b6-1dae-4aad-d37d-bebec3b2cf1f"
      },
      "outputs": [
        {
          "output_type": "execute_result",
          "data": {
            "text/plain": [
              "(28520, 772)"
            ]
          },
          "metadata": {},
          "execution_count": 5
        }
      ],
      "source": [
        "train.shape"
      ]
    },
    {
      "cell_type": "markdown",
      "metadata": {
        "id": "p92LiV4aHSjX"
      },
      "source": [
        "Train dataset has 28520 datapoints and 768 fetures"
      ]
    },
    {
      "cell_type": "code",
      "execution_count": 6,
      "metadata": {
        "colab": {
          "base_uri": "https://localhost:8080/"
        },
        "id": "g1KkiClEHSjX",
        "outputId": "1d09f343-2299-4dee-86b9-9cc5e3684154"
      },
      "outputs": [
        {
          "output_type": "execute_result",
          "data": {
            "text/plain": [
              "(750, 772)"
            ]
          },
          "metadata": {},
          "execution_count": 6
        }
      ],
      "source": [
        "valid.shape"
      ]
    },
    {
      "cell_type": "markdown",
      "metadata": {
        "id": "_evpZJqPHSjY"
      },
      "source": [
        "Valid dataset has 750 datapoints"
      ]
    },
    {
      "cell_type": "code",
      "execution_count": 7,
      "metadata": {
        "colab": {
          "base_uri": "https://localhost:8080/",
          "height": 444
        },
        "id": "vgrv4PsuHSjY",
        "outputId": "43123c97-f80a-4def-f6cb-d76628204551"
      },
      "outputs": [
        {
          "output_type": "execute_result",
          "data": {
            "text/plain": [
              "       feature_1  feature_2  feature_3  feature_4  feature_5  feature_6  \\\n",
              "0       0.031138   0.079892   0.157382  -0.014636  -0.051778  -0.021332   \n",
              "1       0.113040   0.175731   0.217741  -0.196254  -0.010129  -0.030586   \n",
              "2       0.048570   0.091281   0.160776  -0.150937   0.020115   0.044117   \n",
              "3       0.039212   0.118388   0.173831  -0.096659  -0.008702   0.061298   \n",
              "4       0.056019   0.170639   0.157917  -0.228605  -0.065965  -0.088732   \n",
              "...          ...        ...        ...        ...        ...        ...   \n",
              "28515   0.051860   0.076411   0.105938  -0.112908   0.023364   0.059527   \n",
              "28516   0.015274   0.025557   0.071350  -0.041278  -0.010443   0.009135   \n",
              "28517  -0.000337   0.029920   0.065977  -0.035693   0.018643  -0.000174   \n",
              "28518   0.035765   0.053481   0.131675  -0.043579  -0.011288  -0.002910   \n",
              "28519   0.004939   0.041245   0.101223  -0.047161   0.007973  -0.006654   \n",
              "\n",
              "       feature_7  feature_8  feature_9  feature_10  ...  feature_763  \\\n",
              "0      -0.073593  -0.005386  -0.212557    0.099683  ...    -0.085248   \n",
              "1       0.067114  -0.072412  -0.239192    0.104741  ...    -0.090283   \n",
              "2      -0.050092  -0.045661  -0.155332    0.117206  ...    -0.021524   \n",
              "3       0.008974  -0.003277  -0.065046    0.095480  ...    -0.071936   \n",
              "4      -0.082243  -0.080568  -0.341500    0.142430  ...    -0.155621   \n",
              "...          ...        ...        ...         ...  ...          ...   \n",
              "28515  -0.079593  -0.073753  -0.107601    0.104177  ...     0.044550   \n",
              "28516  -0.028207  -0.031185  -0.054272    0.029009  ...     0.025501   \n",
              "28517  -0.051270  -0.022635  -0.041316    0.001559  ...     0.038724   \n",
              "28518  -0.042682  -0.006227  -0.107985    0.055559  ...    -0.011463   \n",
              "28519  -0.052609  -0.001305  -0.051188    0.023919  ...     0.020371   \n",
              "\n",
              "       feature_764  feature_765  feature_766  feature_767  feature_768  \\\n",
              "0        -0.096007    -0.000766     0.021399    -0.041432     0.094806   \n",
              "1        -0.053885    -0.010967     0.062209    -0.122958     0.192949   \n",
              "2        -0.008411    -0.006248     0.031468    -0.056915     0.154731   \n",
              "3        -0.023120    -0.007812     0.057600    -0.121892     0.072796   \n",
              "4        -0.079447     0.015316     0.127726    -0.151966     0.169634   \n",
              "...            ...          ...          ...          ...          ...   \n",
              "28515    -0.056263     0.004664     0.075623     0.017195     0.240886   \n",
              "28516    -0.018314    -0.012793     0.000299     0.012029     0.046191   \n",
              "28517    -0.011894     0.002687     0.008560    -0.004554     0.061891   \n",
              "28518    -0.035990    -0.018325    -0.010334    -0.020396     0.050323   \n",
              "28519    -0.009467    -0.001557     0.019498    -0.025880     0.064083   \n",
              "\n",
              "       label_1  label_2  label_3  label_4  \n",
              "0           45      NaN        1        6  \n",
              "1           45      NaN        1        6  \n",
              "2           45      NaN        1        6  \n",
              "3           45      NaN        1        6  \n",
              "4           45      NaN        1        6  \n",
              "...        ...      ...      ...      ...  \n",
              "28515       39     29.0        1        6  \n",
              "28516       39     29.0        1        6  \n",
              "28517       39     29.0        1        6  \n",
              "28518       39     29.0        1        6  \n",
              "28519       39     29.0        1        6  \n",
              "\n",
              "[28520 rows x 772 columns]"
            ],
            "text/html": [
              "\n",
              "  <div id=\"df-f39614a6-7bc0-45fa-a21a-4e7152158dec\" class=\"colab-df-container\">\n",
              "    <div>\n",
              "<style scoped>\n",
              "    .dataframe tbody tr th:only-of-type {\n",
              "        vertical-align: middle;\n",
              "    }\n",
              "\n",
              "    .dataframe tbody tr th {\n",
              "        vertical-align: top;\n",
              "    }\n",
              "\n",
              "    .dataframe thead th {\n",
              "        text-align: right;\n",
              "    }\n",
              "</style>\n",
              "<table border=\"1\" class=\"dataframe\">\n",
              "  <thead>\n",
              "    <tr style=\"text-align: right;\">\n",
              "      <th></th>\n",
              "      <th>feature_1</th>\n",
              "      <th>feature_2</th>\n",
              "      <th>feature_3</th>\n",
              "      <th>feature_4</th>\n",
              "      <th>feature_5</th>\n",
              "      <th>feature_6</th>\n",
              "      <th>feature_7</th>\n",
              "      <th>feature_8</th>\n",
              "      <th>feature_9</th>\n",
              "      <th>feature_10</th>\n",
              "      <th>...</th>\n",
              "      <th>feature_763</th>\n",
              "      <th>feature_764</th>\n",
              "      <th>feature_765</th>\n",
              "      <th>feature_766</th>\n",
              "      <th>feature_767</th>\n",
              "      <th>feature_768</th>\n",
              "      <th>label_1</th>\n",
              "      <th>label_2</th>\n",
              "      <th>label_3</th>\n",
              "      <th>label_4</th>\n",
              "    </tr>\n",
              "  </thead>\n",
              "  <tbody>\n",
              "    <tr>\n",
              "      <th>0</th>\n",
              "      <td>0.031138</td>\n",
              "      <td>0.079892</td>\n",
              "      <td>0.157382</td>\n",
              "      <td>-0.014636</td>\n",
              "      <td>-0.051778</td>\n",
              "      <td>-0.021332</td>\n",
              "      <td>-0.073593</td>\n",
              "      <td>-0.005386</td>\n",
              "      <td>-0.212557</td>\n",
              "      <td>0.099683</td>\n",
              "      <td>...</td>\n",
              "      <td>-0.085248</td>\n",
              "      <td>-0.096007</td>\n",
              "      <td>-0.000766</td>\n",
              "      <td>0.021399</td>\n",
              "      <td>-0.041432</td>\n",
              "      <td>0.094806</td>\n",
              "      <td>45</td>\n",
              "      <td>NaN</td>\n",
              "      <td>1</td>\n",
              "      <td>6</td>\n",
              "    </tr>\n",
              "    <tr>\n",
              "      <th>1</th>\n",
              "      <td>0.113040</td>\n",
              "      <td>0.175731</td>\n",
              "      <td>0.217741</td>\n",
              "      <td>-0.196254</td>\n",
              "      <td>-0.010129</td>\n",
              "      <td>-0.030586</td>\n",
              "      <td>0.067114</td>\n",
              "      <td>-0.072412</td>\n",
              "      <td>-0.239192</td>\n",
              "      <td>0.104741</td>\n",
              "      <td>...</td>\n",
              "      <td>-0.090283</td>\n",
              "      <td>-0.053885</td>\n",
              "      <td>-0.010967</td>\n",
              "      <td>0.062209</td>\n",
              "      <td>-0.122958</td>\n",
              "      <td>0.192949</td>\n",
              "      <td>45</td>\n",
              "      <td>NaN</td>\n",
              "      <td>1</td>\n",
              "      <td>6</td>\n",
              "    </tr>\n",
              "    <tr>\n",
              "      <th>2</th>\n",
              "      <td>0.048570</td>\n",
              "      <td>0.091281</td>\n",
              "      <td>0.160776</td>\n",
              "      <td>-0.150937</td>\n",
              "      <td>0.020115</td>\n",
              "      <td>0.044117</td>\n",
              "      <td>-0.050092</td>\n",
              "      <td>-0.045661</td>\n",
              "      <td>-0.155332</td>\n",
              "      <td>0.117206</td>\n",
              "      <td>...</td>\n",
              "      <td>-0.021524</td>\n",
              "      <td>-0.008411</td>\n",
              "      <td>-0.006248</td>\n",
              "      <td>0.031468</td>\n",
              "      <td>-0.056915</td>\n",
              "      <td>0.154731</td>\n",
              "      <td>45</td>\n",
              "      <td>NaN</td>\n",
              "      <td>1</td>\n",
              "      <td>6</td>\n",
              "    </tr>\n",
              "    <tr>\n",
              "      <th>3</th>\n",
              "      <td>0.039212</td>\n",
              "      <td>0.118388</td>\n",
              "      <td>0.173831</td>\n",
              "      <td>-0.096659</td>\n",
              "      <td>-0.008702</td>\n",
              "      <td>0.061298</td>\n",
              "      <td>0.008974</td>\n",
              "      <td>-0.003277</td>\n",
              "      <td>-0.065046</td>\n",
              "      <td>0.095480</td>\n",
              "      <td>...</td>\n",
              "      <td>-0.071936</td>\n",
              "      <td>-0.023120</td>\n",
              "      <td>-0.007812</td>\n",
              "      <td>0.057600</td>\n",
              "      <td>-0.121892</td>\n",
              "      <td>0.072796</td>\n",
              "      <td>45</td>\n",
              "      <td>NaN</td>\n",
              "      <td>1</td>\n",
              "      <td>6</td>\n",
              "    </tr>\n",
              "    <tr>\n",
              "      <th>4</th>\n",
              "      <td>0.056019</td>\n",
              "      <td>0.170639</td>\n",
              "      <td>0.157917</td>\n",
              "      <td>-0.228605</td>\n",
              "      <td>-0.065965</td>\n",
              "      <td>-0.088732</td>\n",
              "      <td>-0.082243</td>\n",
              "      <td>-0.080568</td>\n",
              "      <td>-0.341500</td>\n",
              "      <td>0.142430</td>\n",
              "      <td>...</td>\n",
              "      <td>-0.155621</td>\n",
              "      <td>-0.079447</td>\n",
              "      <td>0.015316</td>\n",
              "      <td>0.127726</td>\n",
              "      <td>-0.151966</td>\n",
              "      <td>0.169634</td>\n",
              "      <td>45</td>\n",
              "      <td>NaN</td>\n",
              "      <td>1</td>\n",
              "      <td>6</td>\n",
              "    </tr>\n",
              "    <tr>\n",
              "      <th>...</th>\n",
              "      <td>...</td>\n",
              "      <td>...</td>\n",
              "      <td>...</td>\n",
              "      <td>...</td>\n",
              "      <td>...</td>\n",
              "      <td>...</td>\n",
              "      <td>...</td>\n",
              "      <td>...</td>\n",
              "      <td>...</td>\n",
              "      <td>...</td>\n",
              "      <td>...</td>\n",
              "      <td>...</td>\n",
              "      <td>...</td>\n",
              "      <td>...</td>\n",
              "      <td>...</td>\n",
              "      <td>...</td>\n",
              "      <td>...</td>\n",
              "      <td>...</td>\n",
              "      <td>...</td>\n",
              "      <td>...</td>\n",
              "      <td>...</td>\n",
              "    </tr>\n",
              "    <tr>\n",
              "      <th>28515</th>\n",
              "      <td>0.051860</td>\n",
              "      <td>0.076411</td>\n",
              "      <td>0.105938</td>\n",
              "      <td>-0.112908</td>\n",
              "      <td>0.023364</td>\n",
              "      <td>0.059527</td>\n",
              "      <td>-0.079593</td>\n",
              "      <td>-0.073753</td>\n",
              "      <td>-0.107601</td>\n",
              "      <td>0.104177</td>\n",
              "      <td>...</td>\n",
              "      <td>0.044550</td>\n",
              "      <td>-0.056263</td>\n",
              "      <td>0.004664</td>\n",
              "      <td>0.075623</td>\n",
              "      <td>0.017195</td>\n",
              "      <td>0.240886</td>\n",
              "      <td>39</td>\n",
              "      <td>29.0</td>\n",
              "      <td>1</td>\n",
              "      <td>6</td>\n",
              "    </tr>\n",
              "    <tr>\n",
              "      <th>28516</th>\n",
              "      <td>0.015274</td>\n",
              "      <td>0.025557</td>\n",
              "      <td>0.071350</td>\n",
              "      <td>-0.041278</td>\n",
              "      <td>-0.010443</td>\n",
              "      <td>0.009135</td>\n",
              "      <td>-0.028207</td>\n",
              "      <td>-0.031185</td>\n",
              "      <td>-0.054272</td>\n",
              "      <td>0.029009</td>\n",
              "      <td>...</td>\n",
              "      <td>0.025501</td>\n",
              "      <td>-0.018314</td>\n",
              "      <td>-0.012793</td>\n",
              "      <td>0.000299</td>\n",
              "      <td>0.012029</td>\n",
              "      <td>0.046191</td>\n",
              "      <td>39</td>\n",
              "      <td>29.0</td>\n",
              "      <td>1</td>\n",
              "      <td>6</td>\n",
              "    </tr>\n",
              "    <tr>\n",
              "      <th>28517</th>\n",
              "      <td>-0.000337</td>\n",
              "      <td>0.029920</td>\n",
              "      <td>0.065977</td>\n",
              "      <td>-0.035693</td>\n",
              "      <td>0.018643</td>\n",
              "      <td>-0.000174</td>\n",
              "      <td>-0.051270</td>\n",
              "      <td>-0.022635</td>\n",
              "      <td>-0.041316</td>\n",
              "      <td>0.001559</td>\n",
              "      <td>...</td>\n",
              "      <td>0.038724</td>\n",
              "      <td>-0.011894</td>\n",
              "      <td>0.002687</td>\n",
              "      <td>0.008560</td>\n",
              "      <td>-0.004554</td>\n",
              "      <td>0.061891</td>\n",
              "      <td>39</td>\n",
              "      <td>29.0</td>\n",
              "      <td>1</td>\n",
              "      <td>6</td>\n",
              "    </tr>\n",
              "    <tr>\n",
              "      <th>28518</th>\n",
              "      <td>0.035765</td>\n",
              "      <td>0.053481</td>\n",
              "      <td>0.131675</td>\n",
              "      <td>-0.043579</td>\n",
              "      <td>-0.011288</td>\n",
              "      <td>-0.002910</td>\n",
              "      <td>-0.042682</td>\n",
              "      <td>-0.006227</td>\n",
              "      <td>-0.107985</td>\n",
              "      <td>0.055559</td>\n",
              "      <td>...</td>\n",
              "      <td>-0.011463</td>\n",
              "      <td>-0.035990</td>\n",
              "      <td>-0.018325</td>\n",
              "      <td>-0.010334</td>\n",
              "      <td>-0.020396</td>\n",
              "      <td>0.050323</td>\n",
              "      <td>39</td>\n",
              "      <td>29.0</td>\n",
              "      <td>1</td>\n",
              "      <td>6</td>\n",
              "    </tr>\n",
              "    <tr>\n",
              "      <th>28519</th>\n",
              "      <td>0.004939</td>\n",
              "      <td>0.041245</td>\n",
              "      <td>0.101223</td>\n",
              "      <td>-0.047161</td>\n",
              "      <td>0.007973</td>\n",
              "      <td>-0.006654</td>\n",
              "      <td>-0.052609</td>\n",
              "      <td>-0.001305</td>\n",
              "      <td>-0.051188</td>\n",
              "      <td>0.023919</td>\n",
              "      <td>...</td>\n",
              "      <td>0.020371</td>\n",
              "      <td>-0.009467</td>\n",
              "      <td>-0.001557</td>\n",
              "      <td>0.019498</td>\n",
              "      <td>-0.025880</td>\n",
              "      <td>0.064083</td>\n",
              "      <td>39</td>\n",
              "      <td>29.0</td>\n",
              "      <td>1</td>\n",
              "      <td>6</td>\n",
              "    </tr>\n",
              "  </tbody>\n",
              "</table>\n",
              "<p>28520 rows × 772 columns</p>\n",
              "</div>\n",
              "    <div class=\"colab-df-buttons\">\n",
              "\n",
              "  <div class=\"colab-df-container\">\n",
              "    <button class=\"colab-df-convert\" onclick=\"convertToInteractive('df-f39614a6-7bc0-45fa-a21a-4e7152158dec')\"\n",
              "            title=\"Convert this dataframe to an interactive table.\"\n",
              "            style=\"display:none;\">\n",
              "\n",
              "  <svg xmlns=\"http://www.w3.org/2000/svg\" height=\"24px\" viewBox=\"0 -960 960 960\">\n",
              "    <path d=\"M120-120v-720h720v720H120Zm60-500h600v-160H180v160Zm220 220h160v-160H400v160Zm0 220h160v-160H400v160ZM180-400h160v-160H180v160Zm440 0h160v-160H620v160ZM180-180h160v-160H180v160Zm440 0h160v-160H620v160Z\"/>\n",
              "  </svg>\n",
              "    </button>\n",
              "\n",
              "  <style>\n",
              "    .colab-df-container {\n",
              "      display:flex;\n",
              "      gap: 12px;\n",
              "    }\n",
              "\n",
              "    .colab-df-convert {\n",
              "      background-color: #E8F0FE;\n",
              "      border: none;\n",
              "      border-radius: 50%;\n",
              "      cursor: pointer;\n",
              "      display: none;\n",
              "      fill: #1967D2;\n",
              "      height: 32px;\n",
              "      padding: 0 0 0 0;\n",
              "      width: 32px;\n",
              "    }\n",
              "\n",
              "    .colab-df-convert:hover {\n",
              "      background-color: #E2EBFA;\n",
              "      box-shadow: 0px 1px 2px rgba(60, 64, 67, 0.3), 0px 1px 3px 1px rgba(60, 64, 67, 0.15);\n",
              "      fill: #174EA6;\n",
              "    }\n",
              "\n",
              "    .colab-df-buttons div {\n",
              "      margin-bottom: 4px;\n",
              "    }\n",
              "\n",
              "    [theme=dark] .colab-df-convert {\n",
              "      background-color: #3B4455;\n",
              "      fill: #D2E3FC;\n",
              "    }\n",
              "\n",
              "    [theme=dark] .colab-df-convert:hover {\n",
              "      background-color: #434B5C;\n",
              "      box-shadow: 0px 1px 3px 1px rgba(0, 0, 0, 0.15);\n",
              "      filter: drop-shadow(0px 1px 2px rgba(0, 0, 0, 0.3));\n",
              "      fill: #FFFFFF;\n",
              "    }\n",
              "  </style>\n",
              "\n",
              "    <script>\n",
              "      const buttonEl =\n",
              "        document.querySelector('#df-f39614a6-7bc0-45fa-a21a-4e7152158dec button.colab-df-convert');\n",
              "      buttonEl.style.display =\n",
              "        google.colab.kernel.accessAllowed ? 'block' : 'none';\n",
              "\n",
              "      async function convertToInteractive(key) {\n",
              "        const element = document.querySelector('#df-f39614a6-7bc0-45fa-a21a-4e7152158dec');\n",
              "        const dataTable =\n",
              "          await google.colab.kernel.invokeFunction('convertToInteractive',\n",
              "                                                    [key], {});\n",
              "        if (!dataTable) return;\n",
              "\n",
              "        const docLinkHtml = 'Like what you see? Visit the ' +\n",
              "          '<a target=\"_blank\" href=https://colab.research.google.com/notebooks/data_table.ipynb>data table notebook</a>'\n",
              "          + ' to learn more about interactive tables.';\n",
              "        element.innerHTML = '';\n",
              "        dataTable['output_type'] = 'display_data';\n",
              "        await google.colab.output.renderOutput(dataTable, element);\n",
              "        const docLink = document.createElement('div');\n",
              "        docLink.innerHTML = docLinkHtml;\n",
              "        element.appendChild(docLink);\n",
              "      }\n",
              "    </script>\n",
              "  </div>\n",
              "\n",
              "\n",
              "<div id=\"df-fe506c2b-1051-41b7-9e4b-3ff93b9ea5cb\">\n",
              "  <button class=\"colab-df-quickchart\" onclick=\"quickchart('df-fe506c2b-1051-41b7-9e4b-3ff93b9ea5cb')\"\n",
              "            title=\"Suggest charts.\"\n",
              "            style=\"display:none;\">\n",
              "\n",
              "<svg xmlns=\"http://www.w3.org/2000/svg\" height=\"24px\"viewBox=\"0 0 24 24\"\n",
              "     width=\"24px\">\n",
              "    <g>\n",
              "        <path d=\"M19 3H5c-1.1 0-2 .9-2 2v14c0 1.1.9 2 2 2h14c1.1 0 2-.9 2-2V5c0-1.1-.9-2-2-2zM9 17H7v-7h2v7zm4 0h-2V7h2v10zm4 0h-2v-4h2v4z\"/>\n",
              "    </g>\n",
              "</svg>\n",
              "  </button>\n",
              "\n",
              "<style>\n",
              "  .colab-df-quickchart {\n",
              "      --bg-color: #E8F0FE;\n",
              "      --fill-color: #1967D2;\n",
              "      --hover-bg-color: #E2EBFA;\n",
              "      --hover-fill-color: #174EA6;\n",
              "      --disabled-fill-color: #AAA;\n",
              "      --disabled-bg-color: #DDD;\n",
              "  }\n",
              "\n",
              "  [theme=dark] .colab-df-quickchart {\n",
              "      --bg-color: #3B4455;\n",
              "      --fill-color: #D2E3FC;\n",
              "      --hover-bg-color: #434B5C;\n",
              "      --hover-fill-color: #FFFFFF;\n",
              "      --disabled-bg-color: #3B4455;\n",
              "      --disabled-fill-color: #666;\n",
              "  }\n",
              "\n",
              "  .colab-df-quickchart {\n",
              "    background-color: var(--bg-color);\n",
              "    border: none;\n",
              "    border-radius: 50%;\n",
              "    cursor: pointer;\n",
              "    display: none;\n",
              "    fill: var(--fill-color);\n",
              "    height: 32px;\n",
              "    padding: 0;\n",
              "    width: 32px;\n",
              "  }\n",
              "\n",
              "  .colab-df-quickchart:hover {\n",
              "    background-color: var(--hover-bg-color);\n",
              "    box-shadow: 0 1px 2px rgba(60, 64, 67, 0.3), 0 1px 3px 1px rgba(60, 64, 67, 0.15);\n",
              "    fill: var(--button-hover-fill-color);\n",
              "  }\n",
              "\n",
              "  .colab-df-quickchart-complete:disabled,\n",
              "  .colab-df-quickchart-complete:disabled:hover {\n",
              "    background-color: var(--disabled-bg-color);\n",
              "    fill: var(--disabled-fill-color);\n",
              "    box-shadow: none;\n",
              "  }\n",
              "\n",
              "  .colab-df-spinner {\n",
              "    border: 2px solid var(--fill-color);\n",
              "    border-color: transparent;\n",
              "    border-bottom-color: var(--fill-color);\n",
              "    animation:\n",
              "      spin 1s steps(1) infinite;\n",
              "  }\n",
              "\n",
              "  @keyframes spin {\n",
              "    0% {\n",
              "      border-color: transparent;\n",
              "      border-bottom-color: var(--fill-color);\n",
              "      border-left-color: var(--fill-color);\n",
              "    }\n",
              "    20% {\n",
              "      border-color: transparent;\n",
              "      border-left-color: var(--fill-color);\n",
              "      border-top-color: var(--fill-color);\n",
              "    }\n",
              "    30% {\n",
              "      border-color: transparent;\n",
              "      border-left-color: var(--fill-color);\n",
              "      border-top-color: var(--fill-color);\n",
              "      border-right-color: var(--fill-color);\n",
              "    }\n",
              "    40% {\n",
              "      border-color: transparent;\n",
              "      border-right-color: var(--fill-color);\n",
              "      border-top-color: var(--fill-color);\n",
              "    }\n",
              "    60% {\n",
              "      border-color: transparent;\n",
              "      border-right-color: var(--fill-color);\n",
              "    }\n",
              "    80% {\n",
              "      border-color: transparent;\n",
              "      border-right-color: var(--fill-color);\n",
              "      border-bottom-color: var(--fill-color);\n",
              "    }\n",
              "    90% {\n",
              "      border-color: transparent;\n",
              "      border-bottom-color: var(--fill-color);\n",
              "    }\n",
              "  }\n",
              "</style>\n",
              "\n",
              "  <script>\n",
              "    async function quickchart(key) {\n",
              "      const quickchartButtonEl =\n",
              "        document.querySelector('#' + key + ' button');\n",
              "      quickchartButtonEl.disabled = true;  // To prevent multiple clicks.\n",
              "      quickchartButtonEl.classList.add('colab-df-spinner');\n",
              "      try {\n",
              "        const charts = await google.colab.kernel.invokeFunction(\n",
              "            'suggestCharts', [key], {});\n",
              "      } catch (error) {\n",
              "        console.error('Error during call to suggestCharts:', error);\n",
              "      }\n",
              "      quickchartButtonEl.classList.remove('colab-df-spinner');\n",
              "      quickchartButtonEl.classList.add('colab-df-quickchart-complete');\n",
              "    }\n",
              "    (() => {\n",
              "      let quickchartButtonEl =\n",
              "        document.querySelector('#df-fe506c2b-1051-41b7-9e4b-3ff93b9ea5cb button');\n",
              "      quickchartButtonEl.style.display =\n",
              "        google.colab.kernel.accessAllowed ? 'block' : 'none';\n",
              "    })();\n",
              "  </script>\n",
              "</div>\n",
              "    </div>\n",
              "  </div>\n"
            ]
          },
          "metadata": {},
          "execution_count": 7
        }
      ],
      "source": [
        "train"
      ]
    },
    {
      "cell_type": "markdown",
      "metadata": {
        "id": "cDK1ClcEHSjY"
      },
      "source": [
        "### Handle missing values"
      ]
    },
    {
      "cell_type": "code",
      "execution_count": 8,
      "metadata": {
        "id": "JbjqrtenHSjY"
      },
      "outputs": [],
      "source": [
        "columns = train.columns\n",
        "labels = columns[-4:]\n",
        "features = columns[:-4]"
      ]
    },
    {
      "cell_type": "code",
      "execution_count": 9,
      "metadata": {
        "colab": {
          "base_uri": "https://localhost:8080/"
        },
        "id": "IKUVcCTlHSjZ",
        "outputId": "5692b3c0-c794-4d2c-eae9-cb121f168468"
      },
      "outputs": [
        {
          "output_type": "execute_result",
          "data": {
            "text/plain": [
              "feature_1        0\n",
              "feature_2        0\n",
              "feature_3        0\n",
              "feature_4        0\n",
              "feature_5        0\n",
              "              ... \n",
              "feature_768      0\n",
              "label_1          0\n",
              "label_2        480\n",
              "label_3          0\n",
              "label_4          0\n",
              "Length: 772, dtype: int64"
            ]
          },
          "metadata": {},
          "execution_count": 9
        }
      ],
      "source": [
        "train.isnull().sum()"
      ]
    },
    {
      "cell_type": "code",
      "execution_count": 10,
      "metadata": {
        "colab": {
          "base_uri": "https://localhost:8080/"
        },
        "id": "8QAo0NplHSjZ",
        "outputId": "13754ead-4b3b-4fba-996a-f47b8a966175"
      },
      "outputs": [
        {
          "output_type": "execute_result",
          "data": {
            "text/plain": [
              "feature_1       0\n",
              "feature_2       0\n",
              "feature_3       0\n",
              "feature_4       0\n",
              "feature_5       0\n",
              "               ..\n",
              "feature_768     0\n",
              "label_1         0\n",
              "label_2        14\n",
              "label_3         0\n",
              "label_4         0\n",
              "Length: 772, dtype: int64"
            ]
          },
          "metadata": {},
          "execution_count": 10
        }
      ],
      "source": [
        "valid.isnull().sum()"
      ]
    },
    {
      "cell_type": "code",
      "execution_count": 11,
      "metadata": {
        "id": "4agvh8CkHSjZ"
      },
      "outputs": [],
      "source": [
        "from sklearn.impute import SimpleImputer\n",
        "\n",
        "# missing values are imputed with the median value\n",
        "imp = SimpleImputer(missing_values=np.nan, strategy='median')\n",
        "imp.fit(train[labels])\n",
        "imp.fit(valid[labels])\n",
        "train[labels] = imp.transform(train[labels])\n",
        "valid[labels] =imp.transform(valid[labels])"
      ]
    },
    {
      "cell_type": "code",
      "execution_count": 12,
      "metadata": {
        "colab": {
          "base_uri": "https://localhost:8080/"
        },
        "id": "vsx1IEYVHSjZ",
        "outputId": "1aedffbe-c0b8-48f2-8731-cc2726881bf3"
      },
      "outputs": [
        {
          "output_type": "execute_result",
          "data": {
            "text/plain": [
              "feature_1      0\n",
              "feature_2      0\n",
              "feature_3      0\n",
              "feature_4      0\n",
              "feature_5      0\n",
              "              ..\n",
              "feature_768    0\n",
              "label_1        0\n",
              "label_2        0\n",
              "label_3        0\n",
              "label_4        0\n",
              "Length: 772, dtype: int64"
            ]
          },
          "metadata": {},
          "execution_count": 12
        }
      ],
      "source": [
        "train.isnull().sum()"
      ]
    },
    {
      "cell_type": "code",
      "execution_count": 13,
      "metadata": {
        "colab": {
          "base_uri": "https://localhost:8080/"
        },
        "id": "Hhr5mAZzHSja",
        "outputId": "25002752-eb84-478c-db66-73c5bc2f7595"
      },
      "outputs": [
        {
          "output_type": "execute_result",
          "data": {
            "text/plain": [
              "feature_1      0\n",
              "feature_2      0\n",
              "feature_3      0\n",
              "feature_4      0\n",
              "feature_5      0\n",
              "              ..\n",
              "feature_768    0\n",
              "label_1        0\n",
              "label_2        0\n",
              "label_3        0\n",
              "label_4        0\n",
              "Length: 772, dtype: int64"
            ]
          },
          "metadata": {},
          "execution_count": 13
        }
      ],
      "source": [
        "valid.isnull().sum()"
      ]
    },
    {
      "cell_type": "code",
      "execution_count": 14,
      "metadata": {
        "id": "1oYrmwhMHSja"
      },
      "outputs": [],
      "source": [
        "X_train = train[features]\n",
        "Y_train = train[labels]\n",
        "X_valid = valid[features]\n",
        "Y_valid = valid[labels]"
      ]
    },
    {
      "cell_type": "markdown",
      "metadata": {
        "id": "baBDfIqdHSja"
      },
      "source": [
        "### Varience based feature selection"
      ]
    },
    {
      "cell_type": "code",
      "execution_count": 15,
      "metadata": {
        "colab": {
          "base_uri": "https://localhost:8080/",
          "height": 847
        },
        "id": "enNBl6hQHSja",
        "outputId": "6bd0d4b6-91b6-4e9b-ad7c-35e01c4fbbd2"
      },
      "outputs": [
        {
          "output_type": "execute_result",
          "data": {
            "text/plain": [
              "<matplotlib.collections.PathCollection at 0x7d4fc7875a50>"
            ]
          },
          "metadata": {},
          "execution_count": 15
        },
        {
          "output_type": "display_data",
          "data": {
            "text/plain": [
              "<Figure size 2000x1000 with 1 Axes>"
            ],
            "image/png": "[encoded data removed]"
          },
          "metadata": {}
        }
      ],
      "source": [
        "# scatter plot varience of features\n",
        "plt.figure(figsize=(20,10))\n",
        "plt.scatter(X_train.columns, X_train.var())"
      ]
    },
    {
      "cell_type": "markdown",
      "metadata": {
        "id": "u7O38wLPHSja"
      },
      "source": [
        "Most of the feature varience is close to 0. Removing most of them will negatively imapact on the accuracy of the model"
      ]
    },
    {
      "cell_type": "code",
      "execution_count": 16,
      "metadata": {
        "colab": {
          "base_uri": "https://localhost:8080/"
        },
        "id": "MQ3NJsWdHSjb",
        "outputId": "0b8c9a48-147e-44b7-9eeb-fd866de774b3"
      },
      "outputs": [
        {
          "output_type": "execute_result",
          "data": {
            "text/plain": [
              "((28520, 768), (28520, 768))"
            ]
          },
          "metadata": {},
          "execution_count": 16
        }
      ],
      "source": [
        "from sklearn.feature_selection import VarianceThreshold\n",
        "threshold = VarianceThreshold(0.0001)\n",
        "X_train_array = threshold.fit_transform(X_train)\n",
        "X_train = pd.DataFrame(X_train_array, columns=X_train.columns)\n",
        "X_train_array.shape, X_train.shape\n"
      ]
    },
    {
      "cell_type": "markdown",
      "metadata": {
        "id": "xYy6aU-6HSjb"
      },
      "source": [
        "### Correlation based feature selection"
      ]
    },
    {
      "cell_type": "code",
      "execution_count": 17,
      "metadata": {
        "id": "7T4U_wqsHSjb"
      },
      "outputs": [],
      "source": [
        "import seaborn as sns"
      ]
    },
    {
      "cell_type": "code",
      "execution_count": 18,
      "metadata": {
        "colab": {
          "base_uri": "https://localhost:8080/"
        },
        "id": "kypybXy7J02m",
        "outputId": "899d619a-283c-4add-b07d-3bc36d03b257"
      },
      "outputs": [
        {
          "output_type": "execute_result",
          "data": {
            "text/plain": [
              "70"
            ]
          },
          "metadata": {},
          "execution_count": 18
        }
      ],
      "source": [
        "def correlation(dataset, threshold):\n",
        "    col_corr = set()  # Set of all the names of correlated columns\n",
        "    corr_matrix = dataset.corr()\n",
        "    for i in range(len(corr_matrix.columns)):\n",
        "        for j in range(i):\n",
        "            if abs(corr_matrix.iloc[i, j]) > threshold: # we are interested in absolute coeff value\n",
        "                colname = corr_matrix.columns[i]  # getting the name of column\n",
        "                col_corr.add(colname)\n",
        "    return col_corr\n",
        "\n",
        "corr_features = correlation(X_train, 0.9)\n",
        "len(set(corr_features))"
      ]
    },
    {
      "cell_type": "code",
      "execution_count": 19,
      "metadata": {
        "id": "82p5nA3xNFE1"
      },
      "outputs": [],
      "source": [
        "X_train = X_train.drop(corr_features, axis=1)\n",
        "X_valid = X_valid.drop(corr_features, axis=1)"
      ]
    },
    {
      "cell_type": "markdown",
      "metadata": {
        "id": "HynqARTwP3Pr"
      },
      "source": [
        "70 correlated features were dropped."
      ]
    },
    {
      "cell_type": "markdown",
      "metadata": {
        "id": "6NGDUocKGWHd"
      },
      "source": [
        "### Label 1 : Speaker ID"
      ]
    },
    {
      "cell_type": "code",
      "execution_count": 20,
      "metadata": {
        "id": "0ruJ1JigGVyd"
      },
      "outputs": [],
      "source": [
        "Y_train_1 = Y_train['label_1']\n",
        "Y_valid_1 = Y_valid['label_1']"
      ]
    },
    {
      "cell_type": "code",
      "source": [
        "print(Y_train['label_1'].sort_values())"
      ],
      "metadata": {
        "colab": {
          "base_uri": "https://localhost:8080/"
        },
        "id": "kIdZllxrkXOa",
        "outputId": "e6cbe347-bbbc-413f-a749-94581e56c19e"
      },
      "execution_count": 21,
      "outputs": [
        {
          "output_type": "stream",
          "name": "stdout",
          "text": [
            "22101     1.0\n",
            "22018     1.0\n",
            "22019     1.0\n",
            "22020     1.0\n",
            "22021     1.0\n",
            "         ... \n",
            "1088     60.0\n",
            "1087     60.0\n",
            "1086     60.0\n",
            "1098     60.0\n",
            "1419     60.0\n",
            "Name: label_1, Length: 28520, dtype: float64\n"
          ]
        }
      ]
    },
    {
      "cell_type": "code",
      "execution_count": 22,
      "metadata": {
        "colab": {
          "base_uri": "https://localhost:8080/",
          "height": 864
        },
        "id": "-JFrXwIyNOkC",
        "outputId": "61b1d2f0-19df-413c-c3a1-170d6bd1031b"
      },
      "outputs": [
        {
          "output_type": "execute_result",
          "data": {
            "text/plain": [
              "<Axes: >"
            ]
          },
          "metadata": {},
          "execution_count": 22
        },
        {
          "output_type": "display_data",
          "data": {
            "text/plain": [
              "<Figure size 2000x1000 with 1 Axes>"
            ],
            "image/png": "[encoded data removed]"
          },
          "metadata": {}
        }
      ],
      "source": [
        "Y_train_1.head()\n",
        "plt.figure(figsize=(20,10))\n",
        "label_1 = Y_train['label_1']\n",
        "label_1.value_counts().plot(kind='bar')"
      ]
    },
    {
      "cell_type": "code",
      "execution_count": 23,
      "metadata": {
        "colab": {
          "base_uri": "https://localhost:8080/",
          "height": 763
        },
        "id": "-pAAmUGikG3H",
        "outputId": "f0d141da-60c9-495b-e36d-aec148ba9baa"
      },
      "outputs": [
        {
          "output_type": "execute_result",
          "data": {
            "text/plain": [
              "<Axes: >"
            ]
          },
          "metadata": {},
          "execution_count": 23
        },
        {
          "output_type": "display_data",
          "data": {
            "text/plain": [
              "<Figure size 2000x800 with 1 Axes>"
            ],
            "image/png": "[encoded data removed]"
          },
          "metadata": {}
        }
      ],
      "source": [
        "from sklearn.feature_selection import mutual_info_classif\n",
        "\n",
        "mutual_info = mutual_info_classif(X_train, Y_train_1)\n",
        "mutual_info = pd.Series(mutual_info)\n",
        "mutual_info.index = X_train.columns\n",
        "mutual_info.sort_values(ascending=False).plot.bar(figsize=(20, 8))"
      ]
    },
    {
      "cell_type": "markdown",
      "metadata": {
        "id": "h3h7JPbaePpV"
      },
      "source": [
        "removing features with less than 0.005 mutual information"
      ]
    },
    {
      "cell_type": "code",
      "execution_count": 24,
      "metadata": {
        "id": "tFiKI_gjTeQ4"
      },
      "outputs": [],
      "source": [
        "from sklearn.feature_selection import SelectKBest\n",
        "\n",
        "# selecting features with greater than 0.25 mutual information scores\n",
        "X_train_1 = X_train.copy()\n",
        "X_valid_1 = X_valid.copy()\n",
        "feature_count_1 = mutual_info[mutual_info > 0.005].count()\n",
        "sel_five_cols = SelectKBest(mutual_info_classif, k=feature_count_1)\n",
        "sel_five_cols.fit(X_train_1, Y_train_1)\n",
        "new_columns_1 = X_train_1.columns[sel_five_cols.get_support()]\n"
      ]
    },
    {
      "cell_type": "code",
      "execution_count": 25,
      "metadata": {
        "colab": {
          "base_uri": "https://localhost:8080/"
        },
        "id": "nsngnuR-gFBn",
        "outputId": "a5fc1053-aaae-4868-f66c-33c9ac778faf"
      },
      "outputs": [
        {
          "output_type": "stream",
          "name": "stdout",
          "text": [
            "698 features selected out of 698\n"
          ]
        }
      ],
      "source": [
        "print(f'{feature_count_1} features selected out of {len(X_train.columns)}')"
      ]
    },
    {
      "cell_type": "code",
      "execution_count": 26,
      "metadata": {
        "colab": {
          "base_uri": "https://localhost:8080/"
        },
        "id": "ImDGMN7Igq6l",
        "outputId": "f217a2a7-6238-4420-91fe-4f29b9279213"
      },
      "outputs": [
        {
          "output_type": "execute_result",
          "data": {
            "text/plain": [
              "((28520, 698), (750, 698))"
            ]
          },
          "metadata": {},
          "execution_count": 26
        }
      ],
      "source": [
        "X_train_1 = X_train_1[new_columns_1]\n",
        "X_valid_1 = X_valid_1[new_columns_1]\n",
        "X_train_1.shape, X_valid_1.shape"
      ]
    },
    {
      "cell_type": "markdown",
      "metadata": {
        "id": "_mXA_U_StGK_"
      },
      "source": [
        "Support Vector Machine"
      ]
    },
    {
      "cell_type": "code",
      "execution_count": 30,
      "metadata": {
        "id": "8EWPWo1hhBgZ"
      },
      "outputs": [],
      "source": [
        "from sklearn.pipeline import make_pipeline\n",
        "from sklearn.preprocessing import StandardScaler\n",
        "from sklearn.svm import SVC\n",
        "from sklearn.metrics import accuracy_score\n",
        "from sklearn.model_selection import GridSearchCV\n"
      ]
    },
    {
      "cell_type": "code",
      "source": [
        "svm_1 = SVC()\n",
        "param_grid = {'kernel': ('linear', 'poly', 'rbf')}\n",
        "gs = GridSearchCV(svm_1, param_grid, cv=5)\n",
        "gs.fit(X_train_1, Y_train_1)"
      ],
      "metadata": {
        "id": "iwkYIM4Pb3lH"
      },
      "execution_count": null,
      "outputs": []
    },
    {
      "cell_type": "code",
      "source": [
        "def print_results(results, best_params) :\n",
        "  for i in range(len(results)):\n",
        "    print(f\"Iteration: {results['params']} mean accuracy score: {results['mean_test_score']}\")\n",
        "  print(f\"Best iteration {best_params}\")\n"
      ],
      "metadata": {
        "id": "tYWUsQkmdbZ6"
      },
      "execution_count": null,
      "outputs": []
    },
    {
      "cell_type": "code",
      "source": [
        "print_results(gs.cv_results_, gs.best_params_)\n",
        "best_svm_1 = gs.best_estimator_"
      ],
      "metadata": {
        "id": "dG03xoqlb3lH"
      },
      "execution_count": null,
      "outputs": []
    },
    {
      "cell_type": "markdown",
      "metadata": {
        "id": "R5UoV7DwtL6X"
      },
      "source": [
        "K Nearest Neighbour"
      ]
    },
    {
      "cell_type": "code",
      "source": [
        "from sklearn.model_selection import GridSearchCV\n",
        "from sklearn.neighbors import KNeighborsClassifier\n",
        "\n",
        "knn_clf = KNeighborsClassifier()\n",
        "\n",
        "param_grid = {'n_neighbors': list(range(1,11))}\n",
        "gs = GridSearchCV(knn_clf, param_grid, cv=5)\n",
        "gs.fit(X_train_1, Y_train_1)"
      ],
      "metadata": {
        "id": "048DypjqsdeI"
      },
      "execution_count": null,
      "outputs": []
    },
    {
      "cell_type": "code",
      "source": [
        "\n",
        "print_results(gs.cv_results_, gs.best_params_)\n",
        "best_knn_1 = gs.best_estimator_\n"
      ],
      "metadata": {
        "id": "y9aYVIe7sxUp"
      },
      "execution_count": null,
      "outputs": []
    },
    {
      "cell_type": "markdown",
      "source": [
        "Random forest"
      ],
      "metadata": {
        "id": "kxgieLUOAkP8"
      }
    },
    {
      "cell_type": "code",
      "source": [
        "from sklearn.ensemble import RandomForestClassifier\n",
        "from sklearn.datasets import make_classification\n",
        "\n",
        "rf_1 = RandomForestClassifier()\n",
        "param_grid = {'n_estimators': [100,200,300],'criterion':(\"gini\", \"entropy\", \"log_loss\")}\n",
        "gs = GridSearchCV(rf_1, param_grid, cv=5)\n",
        "gs.fit(X_train_1, Y_train_1)"
      ],
      "metadata": {
        "id": "JwGS0Gs8AjuM"
      },
      "execution_count": null,
      "outputs": []
    },
    {
      "cell_type": "code",
      "source": [
        "print_results(gs.cv_results_, gs.best_params_)\n",
        "best_rf_1 = gs.best_estimator_"
      ],
      "metadata": {
        "id": "QghDnt-bVbZl"
      },
      "execution_count": null,
      "outputs": []
    },
    {
      "cell_type": "markdown",
      "metadata": {
        "id": "2OcOEOX3YpNn"
      },
      "source": [
        "### PCA for dimension reduction"
      ]
    },
    {
      "cell_type": "code",
      "execution_count": null,
      "metadata": {
        "id": "FID4hDHfZe4u"
      },
      "outputs": [],
      "source": [
        "Y_train_1 = Y_train['label_1']\n",
        "Y_valid_1 = Y_valid['label_1']"
      ]
    },
    {
      "cell_type": "code",
      "execution_count": null,
      "metadata": {
        "id": "szPHOLF8YyzW"
      },
      "outputs": [],
      "source": [
        "from sklearn.decomposition import PCA\n",
        "\n",
        "pca = PCA(n_components=400)\n",
        "X_train_1 = pca.fit_transform(X_train.copy())\n",
        "X_valid_1 = pca.transform(X_valid.copy())"
      ]
    },
    {
      "cell_type": "code",
      "execution_count": null,
      "metadata": {
        "id": "zQcTF2dAaNg0"
      },
      "outputs": [],
      "source": [
        "svc_1 = SVC(kernel='poly', degree=3, C=1).fit(X_train_1, Y_train_1)\n",
        "svc_pred = svc_1.predict(X_valid_1)\n",
        "svc_accuracy = accuracy_score(Y_valid_1, svc_pred)\n",
        "print('Accuracy score when using support vector machine: ', \"%.2f\" % (svc_accuracy*100))"
      ]
    },
    {
      "cell_type": "markdown",
      "source": [
        "### Label 2 : Age"
      ],
      "metadata": {
        "id": "0Yl3Bmc2qSun"
      }
    },
    {
      "cell_type": "code",
      "source": [
        "Y_train_2 = Y_train['label_2']\n",
        "Y_valid_2 = Y_valid['label_2']\n"
      ],
      "metadata": {
        "id": "Qyt43HsYqd7r"
      },
      "execution_count": null,
      "outputs": []
    },
    {
      "cell_type": "code",
      "source": [
        "print(Y_train_2.sort_values())"
      ],
      "metadata": {
        "id": "2PVn2joYrSaO"
      },
      "execution_count": null,
      "outputs": []
    },
    {
      "cell_type": "code",
      "source": [
        "Y_train_2.head()\n",
        "plt.figure(figsize=(20,10))\n",
        "Y_train_2.value_counts().plot(kind='bar')"
      ],
      "metadata": {
        "id": "sH3-WIpVraGU"
      },
      "execution_count": null,
      "outputs": []
    },
    {
      "cell_type": "code",
      "source": [
        "from sklearn.feature_selection import mutual_info_classif\n",
        "mutual_info = mutual_info_classif(X_train, Y_train_2)\n",
        "mutual_info = pd.Series(mutual_info)\n",
        "mutual_info.index = X_train.columns\n",
        "mutual_info.sort_values(ascending=False).plot.bar(figsize=(20, 8))"
      ],
      "metadata": {
        "id": "A6IPmfBsrwfO"
      },
      "execution_count": null,
      "outputs": []
    },
    {
      "cell_type": "code",
      "source": [
        "from sklearn.feature_selection import SelectKBest\n",
        "\n",
        "# selecting features with greater than 0.25 mutual information scores\n",
        "X_train_2 = X_train.copy()\n",
        "X_valid_2 = X_valid.copy()\n",
        "feature_count_2 = mutual_info[mutual_info > 0.01].count()\n",
        "sel_five_cols = SelectKBest(mutual_info_classif, k=feature_count_2)\n",
        "sel_five_cols.fit(X_train_2, Y_train_2)\n",
        "new_columns_2 = X_train_2.columns[sel_five_cols.get_support()]"
      ],
      "metadata": {
        "id": "_GFUZwDgsFdJ"
      },
      "execution_count": null,
      "outputs": []
    },
    {
      "cell_type": "code",
      "source": [
        "print(f'{feature_count_2} features selected out of {len(X_train.columns)}')"
      ],
      "metadata": {
        "id": "JwCCW0_es_ik"
      },
      "execution_count": null,
      "outputs": []
    },
    {
      "cell_type": "code",
      "source": [
        "X_train_2 = X_train_2[new_columns_2]\n",
        "X_valid_2 = X_valid_2[new_columns_2]\n",
        "X_train_2.shape, X_valid_2.shape"
      ],
      "metadata": {
        "id": "RLYG8xE6tDVW"
      },
      "execution_count": null,
      "outputs": []
    },
    {
      "cell_type": "markdown",
      "source": [
        "Support Vector Machine"
      ],
      "metadata": {
        "id": "GhfgGg1utOL4"
      }
    },
    {
      "cell_type": "code",
      "source": [
        "svm_2 = SVC()\n",
        "param_grid = {'kernel': ('linear', 'poly', 'rbf')}\n",
        "gs = GridSearchCV(svm_2, param_grid, cv=5)\n",
        "gs.fit(X_train_2, Y_train_2)"
      ],
      "metadata": {
        "id": "y2MveU3nYKXT"
      },
      "execution_count": null,
      "outputs": []
    },
    {
      "cell_type": "code",
      "source": [
        "print_results(gs.cv_results_, gs.best_params_)\n",
        "best_svm_2 = gs.best_estimator_"
      ],
      "metadata": {
        "id": "zjTILai5Y2NS"
      },
      "execution_count": null,
      "outputs": []
    },
    {
      "cell_type": "markdown",
      "source": [
        "KNN"
      ],
      "metadata": {
        "id": "JuO2iMfLfLpd"
      }
    },
    {
      "cell_type": "code",
      "source": [
        "from sklearn.model_selection import GridSearchCV\n",
        "\n",
        "\n",
        "knn_clf = KNeighborsClassifier()\n",
        "param_grid = {'n_neighbors': list(range(1,11))}\n",
        "gs = GridSearchCV(knn_clf, param_grid, cv=5)\n",
        "gs.fit(X_train_2, Y_train_2)"
      ],
      "metadata": {
        "id": "Qm2QQXP1tVzu"
      },
      "execution_count": null,
      "outputs": []
    },
    {
      "cell_type": "code",
      "source": [
        "print_results(gs.cv_results_, gs.best_params_)\n",
        "best_knn_2 = gs.best_estimator_"
      ],
      "metadata": {
        "id": "X-YgFrqrtxym"
      },
      "execution_count": null,
      "outputs": []
    },
    {
      "cell_type": "markdown",
      "source": [
        "Random Forest"
      ],
      "metadata": {
        "id": "DACWLVj4WOR5"
      }
    },
    {
      "cell_type": "code",
      "source": [
        "from sklearn.ensemble import RandomForestClassifier\n",
        "from sklearn.datasets import make_classification\n",
        "\n",
        "rf_2 = RandomForestClassifier()\n",
        "param_grid = {'n_estimators': [100, 200, 300],'criterion':(\"gini\", \"entropy\", \"log_loss\")}\n",
        "gs = GridSearchCV(rf_2, param_grid, cv=5)\n",
        "gs.fit(X_train_2, Y_train_2)"
      ],
      "metadata": {
        "id": "HRpY_K_WWQqE"
      },
      "execution_count": null,
      "outputs": []
    },
    {
      "cell_type": "code",
      "source": [
        "print_results(gs.cv_results_, gs.best_params_)\n",
        "best_rf_2 = gs.best_estimator_"
      ],
      "metadata": {
        "id": "JOg9oCR7WxxZ"
      },
      "execution_count": null,
      "outputs": []
    },
    {
      "cell_type": "markdown",
      "source": [
        "### Label 3 : Gender"
      ],
      "metadata": {
        "id": "KZ8kXWMDgDOs"
      }
    },
    {
      "cell_type": "code",
      "source": [
        "Y_train_3 = Y_train['label_3']\n",
        "Y_valid_3 = Y_valid['label_3']\n"
      ],
      "metadata": {
        "id": "4W05eWQAgBo4"
      },
      "execution_count": null,
      "outputs": []
    },
    {
      "cell_type": "code",
      "source": [
        "Y_train_3.head()\n",
        "plt.figure(figsize=(20,10))\n",
        "Y_train_3.value_counts().plot(kind='bar')"
      ],
      "metadata": {
        "id": "mQKORAU6ANPj"
      },
      "execution_count": null,
      "outputs": []
    },
    {
      "cell_type": "code",
      "source": [
        "from sklearn.feature_selection import mutual_info_classif\n",
        "mutual_info = mutual_info_classif(X_train, Y_train_2)\n",
        "mutual_info = pd.Series(mutual_info)\n",
        "mutual_info.index = X_train.columns\n",
        "mutual_info.sort_values(ascending=False).plot.bar(figsize=(20, 8))"
      ],
      "metadata": {
        "id": "rYKJWMfHXdlj"
      },
      "execution_count": null,
      "outputs": []
    },
    {
      "cell_type": "code",
      "source": [
        "# selecting features with greater than 0.25 mutual information scores\n",
        "X_train_3 = X_train.copy()\n",
        "X_valid_3 = X_valid.copy()\n",
        "feature_count_3 = mutual_info[mutual_info > 0.01].count()\n",
        "sel_five_cols = SelectKBest(mutual_info_classif, k=feature_count_3)\n",
        "sel_five_cols.fit(X_train_3, Y_train_3)\n",
        "new_columns_3 = X_train_3.columns[sel_five_cols.get_support()]"
      ],
      "metadata": {
        "id": "qMBrxkCRXwRx"
      },
      "execution_count": null,
      "outputs": []
    },
    {
      "cell_type": "code",
      "source": [
        "print(f'{feature_count_3} features selected out of {len(X_train.columns)}')"
      ],
      "metadata": {
        "id": "_-E6xEjzXJ0p"
      },
      "execution_count": null,
      "outputs": []
    },
    {
      "cell_type": "code",
      "source": [
        "X_train_3 = X_train_3[new_columns_3]\n",
        "X_valid_3 = X_valid_3[new_columns_3]\n",
        "X_train_3.shape, X_valid_3.shape"
      ],
      "metadata": {
        "id": "NY2BQL_yYAwt"
      },
      "execution_count": null,
      "outputs": []
    },
    {
      "cell_type": "code",
      "source": [
        "svm_3 = SVC()\n",
        "param_grid = {'kernel': ('linear', 'poly', 'rbf')}\n",
        "gs = GridSearchCV(svm_3, param_grid, cv=5)\n",
        "gs.fit(X_train_3, Y_train_3)"
      ],
      "metadata": {
        "id": "__J6K9xJZpGh"
      },
      "execution_count": null,
      "outputs": []
    },
    {
      "cell_type": "code",
      "source": [
        "print_results(gs.cv_results_, gs.best_params_)\n",
        "best_svm_3 = gs.best_estimator_"
      ],
      "metadata": {
        "id": "NIBvClIgZpGi"
      },
      "execution_count": null,
      "outputs": []
    },
    {
      "cell_type": "markdown",
      "source": [
        "KNN"
      ],
      "metadata": {
        "id": "HdCvm82TZpGj"
      }
    },
    {
      "cell_type": "code",
      "source": [
        "from sklearn.model_selection import GridSearchCV\n",
        "\n",
        "\n",
        "knn_3 = KNeighborsClassifier()\n",
        "param_grid = {'n_neighbors': list(range(1,11))}\n",
        "gs = GridSearchCV(knn_3, param_grid, cv=5)\n",
        "gs.fit(X_train_3, Y_train_3)"
      ],
      "metadata": {
        "id": "nDMhcTNaZpGj"
      },
      "execution_count": null,
      "outputs": []
    },
    {
      "cell_type": "code",
      "source": [
        "print_results(gs.cv_results_, gs.best_params_)\n",
        "best_knn_3 = gs.best_estimator_"
      ],
      "metadata": {
        "id": "9Z-vMma7ZpGj"
      },
      "execution_count": null,
      "outputs": []
    },
    {
      "cell_type": "markdown",
      "source": [
        "Random Forest"
      ],
      "metadata": {
        "id": "ZEvmb_cjZpGk"
      }
    },
    {
      "cell_type": "code",
      "source": [
        "from sklearn.ensemble import RandomForestClassifier\n",
        "from sklearn.datasets import make_classification\n",
        "\n",
        "rf_3 = RandomForestClassifier()\n",
        "param_grid = {'n_estimators': [100, 200, 300], 'criterion':(\"gini\", \"entropy\", \"log_loss\")}\n",
        "gs = GridSearchCV(rf_3, param_grid, cv=5)\n",
        "gs.fit(X_train_3, Y_train_3)"
      ],
      "metadata": {
        "id": "VHGgtjpqZpGk"
      },
      "execution_count": null,
      "outputs": []
    },
    {
      "cell_type": "code",
      "source": [
        "print_results(gs.cv_results_, gs.best_params_)\n",
        "best_rf_3 = gs.best_estimator_"
      ],
      "metadata": {
        "id": "tjZqiOLnZpGk"
      },
      "execution_count": null,
      "outputs": []
    },
    {
      "cell_type": "markdown",
      "source": [
        "### Label 4 : Accent"
      ],
      "metadata": {
        "id": "gNUg1L7JaUih"
      }
    },
    {
      "cell_type": "code",
      "source": [
        "Y_train_4= Y_train['label_4']\n",
        "Y_valid_4 = Y_valid['label_4']\n"
      ],
      "metadata": {
        "id": "FX-nEvXDa-U3"
      },
      "execution_count": null,
      "outputs": []
    },
    {
      "cell_type": "code",
      "source": [
        "Y_train_4.head()\n",
        "plt.figure(figsize=(20,10))\n",
        "Y_train_4.value_counts().plot(kind='bar')"
      ],
      "metadata": {
        "id": "LmVNy4pNa-U4"
      },
      "execution_count": null,
      "outputs": []
    },
    {
      "cell_type": "code",
      "source": [
        "from imblearn.over_sampling import SMOTE\n",
        "\n",
        "X_train_4 = X_train.copy()\n",
        "X_valid_4 = X_valid.copy()"
      ],
      "metadata": {
        "id": "7R7bvUp5jwxQ"
      },
      "execution_count": null,
      "outputs": []
    },
    {
      "cell_type": "code",
      "source": [
        "smote = SMOTE(sampling_strategy='auto', random_state=42)\n",
        "X_train_4, Y_train_4 = smote.fit_resample(X_train_4, Y_train_4)"
      ],
      "metadata": {
        "id": "8CJ4UKZVilj6"
      },
      "execution_count": null,
      "outputs": []
    },
    {
      "cell_type": "code",
      "source": [
        "\n",
        "plt.figure(figsize=(20,10))\n",
        "Y_train_4.value_counts().plot(kind='bar')"
      ],
      "metadata": {
        "colab": {
          "base_uri": "https://localhost:8080/",
          "height": 864
        },
        "id": "RNqiAVmSkJTh",
        "outputId": "ba5c07bb-8afd-43c7-995a-b1fd798bc90d"
      },
      "execution_count": null,
      "outputs": [
        {
          "output_type": "execute_result",
          "data": {
            "text/plain": [
              "<Axes: >"
            ]
          },
          "metadata": {},
          "execution_count": 126
        },
        {
          "output_type": "display_data",
          "data": {
            "text/plain": [
              "<Figure size 2000x1000 with 1 Axes>"
            ],
            "image/png": "[encoded data removed]"
          },
          "metadata": {}
        }
      ]
    },
    {
      "cell_type": "code",
      "source": [
        "svm_4 = SVC()\n",
        "param_grid = {'kernal': ('linear', 'poly', 'rbf')}\n",
        "gs = GridSearchCV(svm_4, param_grid, cv=5)\n",
        "gs.fit(X_train_4, Y_train_4)"
      ],
      "metadata": {
        "id": "ja26d7RMa-U5"
      },
      "execution_count": null,
      "outputs": []
    },
    {
      "cell_type": "code",
      "source": [
        "print_results(gs.cv_results_, gs.best_params_)\n",
        "best_svm_4 = gs.best_estimator_"
      ],
      "metadata": {
        "id": "QaWi9BvLa-U6"
      },
      "execution_count": null,
      "outputs": []
    },
    {
      "cell_type": "markdown",
      "source": [
        "KNN"
      ],
      "metadata": {
        "id": "ODQXWPJga-U7"
      }
    },
    {
      "cell_type": "code",
      "source": [
        "from sklearn.model_selection import GridSearchCV\n",
        "\n",
        "\n",
        "knn_4 = KNeighborsClassifier()\n",
        "param_grid = {'n_neighbors': list(range(1,11))}\n",
        "gs = GridSearchCV(knn_4, param_grid, cv=5)\n",
        "gs.fit(X_train_4, Y_train_4)"
      ],
      "metadata": {
        "id": "pMBWkktca-U7"
      },
      "execution_count": null,
      "outputs": []
    },
    {
      "cell_type": "code",
      "source": [
        "print_results(gs.cv_results_, gs.best_params_)\n",
        "best_knn_4 = gs.best_estimator_"
      ],
      "metadata": {
        "id": "Huw0FM2ya-U7"
      },
      "execution_count": null,
      "outputs": []
    },
    {
      "cell_type": "markdown",
      "source": [
        "Random Forest"
      ],
      "metadata": {
        "id": "TsXLhMUwa-U7"
      }
    },
    {
      "cell_type": "code",
      "source": [
        "from sklearn.ensemble import RandomForestClassifier\n",
        "from sklearn.datasets import make_classification\n",
        "\n",
        "rf_4 = RandomForestClassifier()\n",
        "param_grid = {'n_estimators': [100, 200, 300],'criterion':(\"gini\", \"entropy\", \"log_loss\")}\n",
        "gs = GridSearchCV(rf_4, param_grid, cv=5)\n",
        "gs.fit(X_train_4, Y_train_4)"
      ],
      "metadata": {
        "id": "G1aexVSla-U7"
      },
      "execution_count": null,
      "outputs": []
    },
    {
      "cell_type": "code",
      "source": [
        "print_results(gs.cv_results_, gs.best_params_)\n",
        "best_rf_4 = gs.best_estimator_"
      ],
      "metadata": {
        "id": "9GKt0C2Da-U8"
      },
      "execution_count": null,
      "outputs": []
    }
  ],
  "metadata": {
    "colab": {
      "provenance": []
    },
    "kernelspec": {
      "display_name": "Python 3 (ipykernel)",
      "language": "python",
      "name": "python3"
    },
    "language_info": {
      "codemirror_mode": {
        "name": "ipython",
        "version": 3
      },
      "file_extension": ".py",
      "mimetype": "text/x-python",
      "name": "python",
      "nbconvert_exporter": "python",
      "pygments_lexer": "ipython3",
      "version": "3.11.4"
    }
  },
  "nbformat": 4,
  "nbformat_minor": 0
}